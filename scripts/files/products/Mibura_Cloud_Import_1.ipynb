{
 "cells": [
  {
   "cell_type": "code",
   "execution_count": 8,
   "metadata": {
    "collapsed": false
   },
   "outputs": [
    {
     "data": {
      "text/html": [
       "<div>\n",
       "<table border=\"1\" class=\"dataframe\">\n",
       "  <thead>\n",
       "    <tr style=\"text-align: right;\">\n",
       "      <th></th>\n",
       "      <th>Effective Date</th>\n",
       "      <th>Meter Category</th>\n",
       "      <th>Meter Subcategory</th>\n",
       "      <th>Region</th>\n",
       "      <th>Name</th>\n",
       "      <th>Resource ID</th>\n",
       "      <th>Tags</th>\n",
       "      <th>Included Quantities</th>\n",
       "      <th>Minimum Value</th>\n",
       "      <th>AUD</th>\n",
       "      <th>...</th>\n",
       "      <th>GBP</th>\n",
       "      <th>INR</th>\n",
       "      <th>JPY</th>\n",
       "      <th>KRW</th>\n",
       "      <th>NOK</th>\n",
       "      <th>NZD</th>\n",
       "      <th>RUB</th>\n",
       "      <th>SEK</th>\n",
       "      <th>TWD</th>\n",
       "      <th>USD</th>\n",
       "    </tr>\n",
       "  </thead>\n",
       "  <tbody>\n",
       "    <tr>\n",
       "      <th>0</th>\n",
       "      <td>9/1/2017</td>\n",
       "      <td>Networking</td>\n",
       "      <td>ExpressRoute</td>\n",
       "      <td>Zone 2</td>\n",
       "      <td>Unlimited Data - 1 Gbps</td>\n",
       "      <td>4b836326-7e19-46e6-8bce-1b19bb6cd91e</td>\n",
       "      <td>NaN</td>\n",
       "      <td>0</td>\n",
       "      <td>0</td>\n",
       "      <td>9419.0115</td>\n",
       "      <td>...</td>\n",
       "      <td>5511.560055</td>\n",
       "      <td>488781.76875</td>\n",
       "      <td>754290.0</td>\n",
       "      <td>8874000.0</td>\n",
       "      <td>60003.7695</td>\n",
       "      <td>11041.4745</td>\n",
       "      <td>462187.5</td>\n",
       "      <td>58207.524</td>\n",
       "      <td>229448.3625</td>\n",
       "      <td>7395.0</td>\n",
       "    </tr>\n",
       "  </tbody>\n",
       "</table>\n",
       "<p>1 rows × 24 columns</p>\n",
       "</div>"
      ],
      "text/plain": [
       "  Effective Date Meter Category Meter Subcategory  Region  \\\n",
       "0       9/1/2017     Networking      ExpressRoute  Zone 2   \n",
       "\n",
       "                      Name                           Resource ID Tags  \\\n",
       "0  Unlimited Data - 1 Gbps  4b836326-7e19-46e6-8bce-1b19bb6cd91e  NaN   \n",
       "\n",
       "   Included Quantities  Minimum Value        AUD   ...            GBP  \\\n",
       "0                    0              0  9419.0115   ...    5511.560055   \n",
       "\n",
       "            INR       JPY        KRW         NOK         NZD       RUB  \\\n",
       "0  488781.76875  754290.0  8874000.0  60003.7695  11041.4745  462187.5   \n",
       "\n",
       "         SEK          TWD     USD  \n",
       "0  58207.524  229448.3625  7395.0  \n",
       "\n",
       "[1 rows x 24 columns]"
      ]
     },
     "execution_count": 8,
     "metadata": {},
     "output_type": "execute_result"
    }
   ],
   "source": [
    "import pandas as pd\n",
    "import numpy as np\n",
    "\n",
    "data = pd.read_csv('Azure_sep2017.csv')\n",
    "\n",
    "data.head(1)"
   ]
  },
  {
   "cell_type": "code",
   "execution_count": 7,
   "metadata": {
    "collapsed": false
   },
   "outputs": [
    {
     "data": {
      "text/plain": [
       "array([nan, 'Third Party'], dtype=object)"
      ]
     },
     "execution_count": 7,
     "metadata": {},
     "output_type": "execute_result"
    }
   ],
   "source": [
    "data['Tags'].unique()"
   ]
  },
  {
   "cell_type": "code",
   "execution_count": 121,
   "metadata": {
    "collapsed": false
   },
   "outputs": [],
   "source": [
    "data2 = data[['Meter Category', 'Meter Subcategory']]"
   ]
  },
  {
   "cell_type": "code",
   "execution_count": 125,
   "metadata": {
    "collapsed": false
   },
   "outputs": [],
   "source": [
    "data2.columns = ['category', 'subcategory']"
   ]
  },
  {
   "cell_type": "code",
   "execution_count": 123,
   "metadata": {
    "collapsed": true
   },
   "outputs": [],
   "source": [
    "data2.fillna(value=\"\", axis=1, inplace=True)"
   ]
  },
  {
   "cell_type": "code",
   "execution_count": 126,
   "metadata": {
    "collapsed": false
   },
   "outputs": [
    {
     "data": {
      "text/html": [
       "<div>\n",
       "<table border=\"1\" class=\"dataframe\">\n",
       "  <thead>\n",
       "    <tr style=\"text-align: right;\">\n",
       "      <th></th>\n",
       "      <th>category</th>\n",
       "      <th>subcategory</th>\n",
       "    </tr>\n",
       "  </thead>\n",
       "  <tbody>\n",
       "    <tr>\n",
       "      <th>0</th>\n",
       "      <td>Networking</td>\n",
       "      <td>ExpressRoute</td>\n",
       "    </tr>\n",
       "    <tr>\n",
       "      <th>1</th>\n",
       "      <td>Azure App Service</td>\n",
       "      <td></td>\n",
       "    </tr>\n",
       "    <tr>\n",
       "      <th>2</th>\n",
       "      <td>Storage</td>\n",
       "      <td>Locally Redundant</td>\n",
       "    </tr>\n",
       "  </tbody>\n",
       "</table>\n",
       "</div>"
      ],
      "text/plain": [
       "            category        subcategory\n",
       "0         Networking       ExpressRoute\n",
       "1  Azure App Service                   \n",
       "2            Storage  Locally Redundant"
      ]
     },
     "execution_count": 126,
     "metadata": {},
     "output_type": "execute_result"
    }
   ],
   "source": [
    "data2.head(3)"
   ]
  },
  {
   "cell_type": "code",
   "execution_count": 128,
   "metadata": {
    "collapsed": false
   },
   "outputs": [
    {
     "name": "stderr",
     "output_type": "stream",
     "text": [
      "C:\\Users\\Asus\\Anaconda3\\envs\\som_env\\lib\\site-packages\\pandas\\core\\indexing.py:561: SettingWithCopyWarning: \n",
      "A value is trying to be set on a copy of a slice from a DataFrame.\n",
      "Try using .loc[row_indexer,col_indexer] = value instead\n",
      "\n",
      "See the caveats in the documentation: http://pandas.pydata.org/pandas-docs/stable/indexing.html#indexing-view-versus-copy\n",
      "  self.obj[item_labels[indexer[info_axis]]] = value\n"
     ]
    }
   ],
   "source": [
    "data2.loc[:, 'name'] = \"Microsoft Azure\""
   ]
  },
  {
   "cell_type": "code",
   "execution_count": 129,
   "metadata": {
    "collapsed": false
   },
   "outputs": [
    {
     "data": {
      "text/html": [
       "<div>\n",
       "<table border=\"1\" class=\"dataframe\">\n",
       "  <thead>\n",
       "    <tr style=\"text-align: right;\">\n",
       "      <th></th>\n",
       "      <th>category</th>\n",
       "      <th>subcategory</th>\n",
       "      <th>name</th>\n",
       "    </tr>\n",
       "  </thead>\n",
       "  <tbody>\n",
       "    <tr>\n",
       "      <th>0</th>\n",
       "      <td>Networking</td>\n",
       "      <td>ExpressRoute</td>\n",
       "      <td>Microsoft Azure</td>\n",
       "    </tr>\n",
       "    <tr>\n",
       "      <th>1</th>\n",
       "      <td>Azure App Service</td>\n",
       "      <td></td>\n",
       "      <td>Microsoft Azure</td>\n",
       "    </tr>\n",
       "    <tr>\n",
       "      <th>2</th>\n",
       "      <td>Storage</td>\n",
       "      <td>Locally Redundant</td>\n",
       "      <td>Microsoft Azure</td>\n",
       "    </tr>\n",
       "  </tbody>\n",
       "</table>\n",
       "</div>"
      ],
      "text/plain": [
       "            category        subcategory             name\n",
       "0         Networking       ExpressRoute  Microsoft Azure\n",
       "1  Azure App Service                     Microsoft Azure\n",
       "2            Storage  Locally Redundant  Microsoft Azure"
      ]
     },
     "execution_count": 129,
     "metadata": {},
     "output_type": "execute_result"
    }
   ],
   "source": [
    "data2.head(3)"
   ]
  },
  {
   "cell_type": "code",
   "execution_count": 131,
   "metadata": {
    "collapsed": true
   },
   "outputs": [],
   "source": [
    "data2.to_csv(\"azure_addons.csv\", index=False)"
   ]
  },
  {
   "cell_type": "code",
   "execution_count": null,
   "metadata": {
    "collapsed": true
   },
   "outputs": [],
   "source": []
  }
 ],
 "metadata": {
  "anaconda-cloud": {},
  "kernelspec": {
   "display_name": "Python [conda env:som_env]",
   "language": "python",
   "name": "conda-env-som_env-py"
  },
  "language_info": {
   "codemirror_mode": {
    "name": "ipython",
    "version": 2
   },
   "file_extension": ".py",
   "mimetype": "text/x-python",
   "name": "python",
   "nbconvert_exporter": "python",
   "pygments_lexer": "ipython2",
   "version": "2.7.13"
  }
 },
 "nbformat": 4,
 "nbformat_minor": 2
}
